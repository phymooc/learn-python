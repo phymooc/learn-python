{
 "cells": [
  {
   "cell_type": "code",
   "execution_count": 26,
   "metadata": {},
   "outputs": [
    {
     "data": {
      "text/plain": [
       "200"
      ]
     },
     "execution_count": 26,
     "metadata": {},
     "output_type": "execute_result"
    }
   ],
   "source": [
    "import requests\n",
    "import os\n",
    "\n",
    "r = requests.get(\"https://github.com/adambard/learnxinyminutes-docs\")\n",
    "r.status_code\n",
    "# r.text\n",
    "# print (r.text)"
   ]
  },
  {
   "cell_type": "code",
   "execution_count": 27,
   "metadata": {},
   "outputs": [
    {
     "name": "stdout",
     "output_type": "stream",
     "text": [
      "name,age,weight,species\n",
      "\"fluffy\",3,14,\"cat\"\n",
      "\"vesuvius\",6,23,\"fish\"\n",
      "\"rex\",5,34,\"dog\"\n",
      "\n"
     ]
    }
   ],
   "source": [
    "\n",
    "os.getcwd()\n",
    "with open(\"learningxinyminutes.html\", \"wb\") as f:\n",
    "    f.write(r.text.encode(\"UTF-8\"))\n",
    "    \n",
    "fp = \"https://raw.githubusercontent.com/adambard/learnxinyminutes-docs/master/\"\n",
    "fn = \"pets.csv\"\n",
    "r = requests.get(fp + fn)\n",
    "print(r.text)\n",
    "with open(fn,\"wb\") as f:\n",
    "    f.write(r.text.encode(\"UTF-8\"))\n",
    "    "
   ]
  },
  {
   "cell_type": "code",
   "execution_count": 28,
   "metadata": {},
   "outputs": [
    {
     "data": {
      "text/html": [
       "<div>\n",
       "<style scoped>\n",
       "    .dataframe tbody tr th:only-of-type {\n",
       "        vertical-align: middle;\n",
       "    }\n",
       "\n",
       "    .dataframe tbody tr th {\n",
       "        vertical-align: top;\n",
       "    }\n",
       "\n",
       "    .dataframe thead th {\n",
       "        text-align: right;\n",
       "    }\n",
       "</style>\n",
       "<table border=\"1\" class=\"dataframe\">\n",
       "  <thead>\n",
       "    <tr style=\"text-align: right;\">\n",
       "      <th></th>\n",
       "      <th>name</th>\n",
       "      <th>age</th>\n",
       "      <th>weight</th>\n",
       "      <th>species</th>\n",
       "    </tr>\n",
       "  </thead>\n",
       "  <tbody>\n",
       "    <tr>\n",
       "      <th>0</th>\n",
       "      <td>fluffy</td>\n",
       "      <td>3</td>\n",
       "      <td>14</td>\n",
       "      <td>cat</td>\n",
       "    </tr>\n",
       "    <tr>\n",
       "      <th>1</th>\n",
       "      <td>vesuvius</td>\n",
       "      <td>6</td>\n",
       "      <td>23</td>\n",
       "      <td>fish</td>\n",
       "    </tr>\n",
       "    <tr>\n",
       "      <th>2</th>\n",
       "      <td>rex</td>\n",
       "      <td>5</td>\n",
       "      <td>34</td>\n",
       "      <td>dog</td>\n",
       "    </tr>\n",
       "  </tbody>\n",
       "</table>\n",
       "</div>"
      ],
      "text/plain": [
       "       name  age  weight species\n",
       "0    fluffy    3      14     cat\n",
       "1  vesuvius    6      23    fish\n",
       "2       rex    5      34     dog"
      ]
     },
     "execution_count": 28,
     "metadata": {},
     "output_type": "execute_result"
    }
   ],
   "source": [
    "import pandas as pd\n",
    "import numpy as np\n",
    "import scipy as sp\n",
    "\n",
    "pets = pd.read_csv(fn)\n",
    "pets"
   ]
  },
  {
   "cell_type": "code",
   "execution_count": 29,
   "metadata": {},
   "outputs": [
    {
     "data": {
      "text/plain": [
       "0    3\n",
       "1    6\n",
       "2    5\n",
       "Name: age, dtype: int64"
      ]
     },
     "execution_count": 29,
     "metadata": {},
     "output_type": "execute_result"
    }
   ],
   "source": [
    "pets.age"
   ]
  },
  {
   "cell_type": "code",
   "execution_count": 30,
   "metadata": {},
   "outputs": [
    {
     "data": {
      "text/plain": [
       "0    3\n",
       "1    6\n",
       "2    5\n",
       "Name: age, dtype: int64"
      ]
     },
     "execution_count": 30,
     "metadata": {},
     "output_type": "execute_result"
    }
   ],
   "source": [
    "pets[\"age\"]"
   ]
  },
  {
   "cell_type": "code",
   "execution_count": 31,
   "metadata": {},
   "outputs": [
    {
     "data": {
      "text/html": [
       "<div>\n",
       "<style scoped>\n",
       "    .dataframe tbody tr th:only-of-type {\n",
       "        vertical-align: middle;\n",
       "    }\n",
       "\n",
       "    .dataframe tbody tr th {\n",
       "        vertical-align: top;\n",
       "    }\n",
       "\n",
       "    .dataframe thead th {\n",
       "        text-align: right;\n",
       "    }\n",
       "</style>\n",
       "<table border=\"1\" class=\"dataframe\">\n",
       "  <thead>\n",
       "    <tr style=\"text-align: right;\">\n",
       "      <th></th>\n",
       "      <th>name</th>\n",
       "      <th>age</th>\n",
       "      <th>weight</th>\n",
       "      <th>species</th>\n",
       "    </tr>\n",
       "  </thead>\n",
       "  <tbody>\n",
       "    <tr>\n",
       "      <th>0</th>\n",
       "      <td>fluffy</td>\n",
       "      <td>3</td>\n",
       "      <td>14</td>\n",
       "      <td>cat</td>\n",
       "    </tr>\n",
       "    <tr>\n",
       "      <th>1</th>\n",
       "      <td>vesuvius</td>\n",
       "      <td>6</td>\n",
       "      <td>23</td>\n",
       "      <td>fish</td>\n",
       "    </tr>\n",
       "  </tbody>\n",
       "</table>\n",
       "</div>"
      ],
      "text/plain": [
       "       name  age  weight species\n",
       "0    fluffy    3      14     cat\n",
       "1  vesuvius    6      23    fish"
      ]
     },
     "execution_count": 31,
     "metadata": {},
     "output_type": "execute_result"
    }
   ],
   "source": [
    "pets.head(2)"
   ]
  },
  {
   "cell_type": "code",
   "execution_count": 32,
   "metadata": {},
   "outputs": [
    {
     "data": {
      "text/html": [
       "<div>\n",
       "<style scoped>\n",
       "    .dataframe tbody tr th:only-of-type {\n",
       "        vertical-align: middle;\n",
       "    }\n",
       "\n",
       "    .dataframe tbody tr th {\n",
       "        vertical-align: top;\n",
       "    }\n",
       "\n",
       "    .dataframe thead th {\n",
       "        text-align: right;\n",
       "    }\n",
       "</style>\n",
       "<table border=\"1\" class=\"dataframe\">\n",
       "  <thead>\n",
       "    <tr style=\"text-align: right;\">\n",
       "      <th></th>\n",
       "      <th>name</th>\n",
       "      <th>age</th>\n",
       "      <th>weight</th>\n",
       "      <th>species</th>\n",
       "    </tr>\n",
       "  </thead>\n",
       "  <tbody>\n",
       "    <tr>\n",
       "      <th>1</th>\n",
       "      <td>vesuvius</td>\n",
       "      <td>6</td>\n",
       "      <td>23</td>\n",
       "      <td>fish</td>\n",
       "    </tr>\n",
       "    <tr>\n",
       "      <th>2</th>\n",
       "      <td>rex</td>\n",
       "      <td>5</td>\n",
       "      <td>34</td>\n",
       "      <td>dog</td>\n",
       "    </tr>\n",
       "  </tbody>\n",
       "</table>\n",
       "</div>"
      ],
      "text/plain": [
       "       name  age  weight species\n",
       "1  vesuvius    6      23    fish\n",
       "2       rex    5      34     dog"
      ]
     },
     "execution_count": 32,
     "metadata": {},
     "output_type": "execute_result"
    }
   ],
   "source": [
    "pets.tail(2)"
   ]
  },
  {
   "cell_type": "code",
   "execution_count": 33,
   "metadata": {},
   "outputs": [
    {
     "data": {
      "text/plain": [
       "'vesuvius'"
      ]
     },
     "execution_count": 33,
     "metadata": {},
     "output_type": "execute_result"
    }
   ],
   "source": [
    "      pets.name[1]                                                                                                                                              "
   ]
  },
  {
   "cell_type": "code",
   "execution_count": 34,
   "metadata": {},
   "outputs": [
    {
     "data": {
      "text/plain": [
       "0    3\n",
       "1    6\n",
       "Name: age, dtype: int64"
      ]
     },
     "execution_count": 34,
     "metadata": {},
     "output_type": "execute_result"
    }
   ],
   "source": [
    "pets.age[0:2]"
   ]
  },
  {
   "cell_type": "code",
   "execution_count": 35,
   "metadata": {},
   "outputs": [
    {
     "data": {
      "text/plain": [
       "14"
      ]
     },
     "execution_count": 35,
     "metadata": {},
     "output_type": "execute_result"
    }
   ],
   "source": [
    "sum(pets.age)"
   ]
  },
  {
   "cell_type": "code",
   "execution_count": 36,
   "metadata": {},
   "outputs": [
    {
     "data": {
      "text/plain": [
       "20"
      ]
     },
     "execution_count": 36,
     "metadata": {},
     "output_type": "execute_result"
    }
   ],
   "source": [
    "max(pets.weight) - min (pets.weight)"
   ]
  },
  {
   "cell_type": "code",
   "execution_count": 37,
   "metadata": {},
   "outputs": [
    {
     "data": {
      "text/plain": [
       "(array([1., 0., 0., 0., 0., 0., 1., 0., 0., 1.]),\n",
       " array([3. , 3.3, 3.6, 3.9, 4.2, 4.5, 4.8, 5.1, 5.4, 5.7, 6. ]),\n",
       " <a list of 10 Patch objects>)"
      ]
     },
     "execution_count": 37,
     "metadata": {},
     "output_type": "execute_result"
    },
    {
     "data": {
      "image/png": "[encoded data removed]",
      "text/plain": [
       "<Figure size 432x288 with 1 Axes>"
      ]
     },
     "metadata": {
      "needs_background": "light"
     },
     "output_type": "display_data"
    }
   ],
   "source": [
    "import matplotlib as mpl\n",
    "import matplotlib.pyplot as plt\n",
    "%matplotlib inline\n",
    "\n",
    "plt.hist(pets.age)\n"
   ]
  },
  {
   "cell_type": "code",
   "execution_count": 38,
   "metadata": {},
   "outputs": [
    {
     "data": {
      "text/plain": [
       "{'whiskers': [<matplotlib.lines.Line2D at 0x239797e6af0>,\n",
       "  <matplotlib.lines.Line2D at 0x239797e6e50>],\n",
       " 'caps': [<matplotlib.lines.Line2D at 0x239797f01f0>,\n",
       "  <matplotlib.lines.Line2D at 0x239797f0550>],\n",
       " 'boxes': [<matplotlib.lines.Line2D at 0x239797e6790>],\n",
       " 'medians': [<matplotlib.lines.Line2D at 0x239797f08b0>],\n",
       " 'fliers': [<matplotlib.lines.Line2D at 0x239797f0bb0>],\n",
       " 'means': []}"
      ]
     },
     "execution_count": 38,
     "metadata": {},
     "output_type": "execute_result"
    },
    {
     "data": {
      "image/png": "[encoded data removed]",
      "text/plain": [
       "<Figure size 432x288 with 1 Axes>"
      ]
     },
     "metadata": {
      "needs_background": "light"
     },
     "output_type": "display_data"
    }
   ],
   "source": [
    "plt.boxplot(pets.weight)\n"
   ]
  },
  {
   "cell_type": "code",
   "execution_count": 39,
   "metadata": {},
   "outputs": [
    {
     "data": {
      "text/plain": [
       "Text(0, 0.5, 'weight')"
      ]
     },
     "execution_count": 39,
     "metadata": {},
     "output_type": "execute_result"
    },
    {
     "data": {
      "image/png": "[encoded data removed]",
      "text/plain": [
       "<Figure size 432x288 with 1 Axes>"
      ]
     },
     "metadata": {
      "needs_background": "light"
     },
     "output_type": "display_data"
    }
   ],
   "source": [
    "plt.scatter(pets.age, pets.weight)\n",
    "plt.xlabel(\"age\")\n",
    "plt.ylabel(\"weight\")"
   ]
  },
  {
   "cell_type": "code",
   "execution_count": 40,
   "metadata": {},
   "outputs": [
    {
     "data": {
      "text/plain": [
       "<matplotlib.collections.PathCollection at 0x23979893370>"
      ]
     },
     "execution_count": 40,
     "metadata": {},
     "output_type": "execute_result"
    },
    {
     "data": {
      "image/png": "[encoded data removed]",
      "text/plain": [
       "<Figure size 432x288 with 1 Axes>"
      ]
     },
     "metadata": {
      "needs_background": "light"
     },
     "output_type": "display_data"
    }
   ],
   "source": [
    "import seaborn as sns\n",
    "plt.scatter(pets.age, pets.weight)"
   ]
  },
  {
   "cell_type": "code",
   "execution_count": null,
   "metadata": {},
   "outputs": [],
   "source": []
  },
  {
   "cell_type": "code",
   "execution_count": 41,
   "metadata": {},
   "outputs": [
    {
     "data": {
      "text/plain": [
       "<matplotlib.axes._subplots.AxesSubplot at 0x239798a1970>"
      ]
     },
     "execution_count": 41,
     "metadata": {},
     "output_type": "execute_result"
    },
    {
     "data": {
      "image/png": "[encoded data removed]",
      "text/plain": [
       "<Figure size 432x288 with 1 Axes>"
      ]
     },
     "metadata": {
      "needs_background": "light"
     },
     "output_type": "display_data"
    }
   ],
   "source": [
    "sns.barplot(pets[\"age\"])"
   ]
  },
  {
   "cell_type": "code",
   "execution_count": 42,
   "metadata": {},
   "outputs": [
    {
     "ename": "AttributeError",
     "evalue": "module 'pandas' has no attribute 'tslib'",
     "output_type": "error",
     "traceback": [
      "\u001b[1;31m---------------------------------------------------------------------------\u001b[0m",
      "\u001b[1;31mAttributeError\u001b[0m                            Traceback (most recent call last)",
      "\u001b[1;32m<ipython-input-42-91dbf1f7378b>\u001b[0m in \u001b[0;36m<module>\u001b[1;34m\u001b[0m\n\u001b[1;32m----> 1\u001b[1;33m \u001b[1;32mfrom\u001b[0m \u001b[0mggplot\u001b[0m \u001b[1;32mimport\u001b[0m \u001b[1;33m*\u001b[0m\u001b[1;33m\u001b[0m\u001b[1;33m\u001b[0m\u001b[0m\n\u001b[0m\u001b[0;32m      2\u001b[0m \u001b[0mggplot\u001b[0m\u001b[1;33m(\u001b[0m\u001b[0maes\u001b[0m\u001b[1;33m(\u001b[0m\u001b[0mx\u001b[0m\u001b[1;33m=\u001b[0m\u001b[1;34m\"age\"\u001b[0m\u001b[1;33m,\u001b[0m \u001b[0my\u001b[0m\u001b[1;33m=\u001b[0m\u001b[1;34m\"weight\"\u001b[0m\u001b[1;33m)\u001b[0m\u001b[1;33m,\u001b[0m \u001b[0mdata\u001b[0m\u001b[1;33m=\u001b[0m\u001b[0mpets\u001b[0m\u001b[1;33m)\u001b[0m \u001b[1;33m+\u001b[0m \u001b[0mgeom_point\u001b[0m\u001b[1;33m(\u001b[0m\u001b[1;33m)\u001b[0m \u001b[1;33m+\u001b[0m\u001b[0mlabs\u001b[0m\u001b[1;33m(\u001b[0m\u001b[0mtilte\u001b[0m\u001b[1;33m=\u001b[0m\u001b[1;34m\"pets\"\u001b[0m\u001b[1;33m)\u001b[0m\u001b[1;33m\u001b[0m\u001b[1;33m\u001b[0m\u001b[0m\n",
      "\u001b[1;32mc:\\users\\murphy\\appdata\\local\\programs\\python\\python38\\lib\\site-packages\\ggplot\\__init__.py\u001b[0m in \u001b[0;36m<module>\u001b[1;34m\u001b[0m\n\u001b[0;32m     17\u001b[0m \u001b[1;33m\u001b[0m\u001b[0m\n\u001b[0;32m     18\u001b[0m \u001b[1;33m\u001b[0m\u001b[0m\n\u001b[1;32m---> 19\u001b[1;33m \u001b[1;32mfrom\u001b[0m \u001b[1;33m.\u001b[0m\u001b[0mgeoms\u001b[0m \u001b[1;32mimport\u001b[0m \u001b[0mgeom_area\u001b[0m\u001b[1;33m,\u001b[0m \u001b[0mgeom_blank\u001b[0m\u001b[1;33m,\u001b[0m \u001b[0mgeom_boxplot\u001b[0m\u001b[1;33m,\u001b[0m \u001b[0mgeom_line\u001b[0m\u001b[1;33m,\u001b[0m \u001b[0mgeom_point\u001b[0m\u001b[1;33m,\u001b[0m \u001b[0mgeom_jitter\u001b[0m\u001b[1;33m,\u001b[0m \u001b[0mgeom_histogram\u001b[0m\u001b[1;33m,\u001b[0m \u001b[0mgeom_density\u001b[0m\u001b[1;33m,\u001b[0m \u001b[0mgeom_hline\u001b[0m\u001b[1;33m,\u001b[0m \u001b[0mgeom_vline\u001b[0m\u001b[1;33m,\u001b[0m \u001b[0mgeom_bar\u001b[0m\u001b[1;33m,\u001b[0m \u001b[0mgeom_abline\u001b[0m\u001b[1;33m,\u001b[0m \u001b[0mgeom_tile\u001b[0m\u001b[1;33m,\u001b[0m \u001b[0mgeom_rect\u001b[0m\u001b[1;33m,\u001b[0m \u001b[0mgeom_bin2d\u001b[0m\u001b[1;33m,\u001b[0m \u001b[0mgeom_step\u001b[0m\u001b[1;33m,\u001b[0m \u001b[0mgeom_text\u001b[0m\u001b[1;33m,\u001b[0m \u001b[0mgeom_path\u001b[0m\u001b[1;33m,\u001b[0m \u001b[0mgeom_ribbon\u001b[0m\u001b[1;33m,\u001b[0m \u001b[0mgeom_now_its_art\u001b[0m\u001b[1;33m,\u001b[0m \u001b[0mgeom_violin\u001b[0m\u001b[1;33m,\u001b[0m \u001b[0mgeom_errorbar\u001b[0m\u001b[1;33m,\u001b[0m \u001b[0mgeom_polygon\u001b[0m\u001b[1;33m\u001b[0m\u001b[1;33m\u001b[0m\u001b[0m\n\u001b[0m\u001b[0;32m     20\u001b[0m \u001b[1;32mfrom\u001b[0m \u001b[1;33m.\u001b[0m\u001b[0mstats\u001b[0m \u001b[1;32mimport\u001b[0m \u001b[0mstat_smooth\u001b[0m\u001b[1;33m,\u001b[0m \u001b[0mstat_density\u001b[0m\u001b[1;33m\u001b[0m\u001b[1;33m\u001b[0m\u001b[0m\n\u001b[0;32m     21\u001b[0m \u001b[1;33m\u001b[0m\u001b[0m\n",
      "\u001b[1;32mc:\\users\\murphy\\appdata\\local\\programs\\python\\python38\\lib\\site-packages\\ggplot\\geoms\\__init__.py\u001b[0m in \u001b[0;36m<module>\u001b[1;34m\u001b[0m\n\u001b[1;32m----> 1\u001b[1;33m \u001b[1;32mfrom\u001b[0m \u001b[1;33m.\u001b[0m\u001b[0mgeom_abline\u001b[0m \u001b[1;32mimport\u001b[0m \u001b[0mgeom_abline\u001b[0m\u001b[1;33m\u001b[0m\u001b[1;33m\u001b[0m\u001b[0m\n\u001b[0m\u001b[0;32m      2\u001b[0m \u001b[1;32mfrom\u001b[0m \u001b[1;33m.\u001b[0m\u001b[0mgeom_area\u001b[0m \u001b[1;32mimport\u001b[0m \u001b[0mgeom_area\u001b[0m\u001b[1;33m\u001b[0m\u001b[1;33m\u001b[0m\u001b[0m\n\u001b[0;32m      3\u001b[0m \u001b[1;32mfrom\u001b[0m \u001b[1;33m.\u001b[0m\u001b[0mgeom_bar\u001b[0m \u001b[1;32mimport\u001b[0m \u001b[0mgeom_bar\u001b[0m\u001b[1;33m\u001b[0m\u001b[1;33m\u001b[0m\u001b[0m\n\u001b[0;32m      4\u001b[0m \u001b[1;32mfrom\u001b[0m \u001b[1;33m.\u001b[0m\u001b[0mgeom_bin2d\u001b[0m \u001b[1;32mimport\u001b[0m \u001b[0mgeom_bin2d\u001b[0m\u001b[1;33m\u001b[0m\u001b[1;33m\u001b[0m\u001b[0m\n\u001b[0;32m      5\u001b[0m \u001b[1;32mfrom\u001b[0m \u001b[1;33m.\u001b[0m\u001b[0mgeom_blank\u001b[0m \u001b[1;32mimport\u001b[0m \u001b[0mgeom_blank\u001b[0m\u001b[1;33m\u001b[0m\u001b[1;33m\u001b[0m\u001b[0m\n",
      "\u001b[1;32mc:\\users\\murphy\\appdata\\local\\programs\\python\\python38\\lib\\site-packages\\ggplot\\geoms\\geom_abline.py\u001b[0m in \u001b[0;36m<module>\u001b[1;34m\u001b[0m\n\u001b[1;32m----> 1\u001b[1;33m \u001b[1;32mfrom\u001b[0m \u001b[1;33m.\u001b[0m\u001b[0mgeom\u001b[0m \u001b[1;32mimport\u001b[0m \u001b[0mgeom\u001b[0m\u001b[1;33m\u001b[0m\u001b[1;33m\u001b[0m\u001b[0m\n\u001b[0m\u001b[0;32m      2\u001b[0m \u001b[1;33m\u001b[0m\u001b[0m\n\u001b[0;32m      3\u001b[0m \u001b[1;32mclass\u001b[0m \u001b[0mgeom_abline\u001b[0m\u001b[1;33m(\u001b[0m\u001b[0mgeom\u001b[0m\u001b[1;33m)\u001b[0m\u001b[1;33m:\u001b[0m\u001b[1;33m\u001b[0m\u001b[1;33m\u001b[0m\u001b[0m\n\u001b[0;32m      4\u001b[0m     \"\"\"\n\u001b[0;32m      5\u001b[0m     \u001b[0mLine\u001b[0m \u001b[0mspecified\u001b[0m \u001b[0mby\u001b[0m \u001b[0mslope\u001b[0m \u001b[1;32mand\u001b[0m \u001b[0mintercept\u001b[0m\u001b[1;33m\u001b[0m\u001b[1;33m\u001b[0m\u001b[0m\n",
      "\u001b[1;32mc:\\users\\murphy\\appdata\\local\\programs\\python\\python38\\lib\\site-packages\\ggplot\\geoms\\geom.py\u001b[0m in \u001b[0;36m<module>\u001b[1;34m\u001b[0m\n\u001b[0;32m      1\u001b[0m from __future__ import (absolute_import, division, print_function,\n\u001b[0;32m      2\u001b[0m                         unicode_literals)\n\u001b[1;32m----> 3\u001b[1;33m \u001b[1;32mfrom\u001b[0m \u001b[1;33m.\u001b[0m\u001b[1;33m.\u001b[0m\u001b[0mggplot\u001b[0m \u001b[1;32mimport\u001b[0m \u001b[0mggplot\u001b[0m\u001b[1;33m\u001b[0m\u001b[1;33m\u001b[0m\u001b[0m\n\u001b[0m\u001b[0;32m      4\u001b[0m \u001b[1;32mfrom\u001b[0m \u001b[1;33m.\u001b[0m\u001b[1;33m.\u001b[0m\u001b[0maes\u001b[0m \u001b[1;32mimport\u001b[0m \u001b[0maes\u001b[0m\u001b[1;33m\u001b[0m\u001b[1;33m\u001b[0m\u001b[0m\n\u001b[0;32m      5\u001b[0m \u001b[1;33m\u001b[0m\u001b[0m\n",
      "\u001b[1;32mc:\\users\\murphy\\appdata\\local\\programs\\python\\python38\\lib\\site-packages\\ggplot\\ggplot.py\u001b[0m in \u001b[0;36m<module>\u001b[1;34m\u001b[0m\n\u001b[0;32m     11\u001b[0m \u001b[1;32mimport\u001b[0m \u001b[0mwarnings\u001b[0m\u001b[1;33m\u001b[0m\u001b[1;33m\u001b[0m\u001b[0m\n\u001b[0;32m     12\u001b[0m \u001b[1;33m\u001b[0m\u001b[0m\n\u001b[1;32m---> 13\u001b[1;33m \u001b[1;32mfrom\u001b[0m \u001b[1;33m.\u001b[0m\u001b[0maes\u001b[0m \u001b[1;32mimport\u001b[0m \u001b[0maes\u001b[0m\u001b[1;33m\u001b[0m\u001b[1;33m\u001b[0m\u001b[0m\n\u001b[0m\u001b[0;32m     14\u001b[0m \u001b[1;32mfrom\u001b[0m \u001b[1;33m.\u001b[0m\u001b[0mlegend\u001b[0m \u001b[1;32mimport\u001b[0m \u001b[0mmake_legend\u001b[0m\u001b[1;33m\u001b[0m\u001b[1;33m\u001b[0m\u001b[0m\n\u001b[0;32m     15\u001b[0m \u001b[1;32mfrom\u001b[0m \u001b[1;33m.\u001b[0m\u001b[0mthemes\u001b[0m \u001b[1;32mimport\u001b[0m \u001b[0mtheme_gray\u001b[0m\u001b[1;33m\u001b[0m\u001b[1;33m\u001b[0m\u001b[0m\n",
      "\u001b[1;32mc:\\users\\murphy\\appdata\\local\\programs\\python\\python38\\lib\\site-packages\\ggplot\\aes.py\u001b[0m in \u001b[0;36m<module>\u001b[1;34m\u001b[0m\n\u001b[0;32m      9\u001b[0m \u001b[1;32mfrom\u001b[0m \u001b[0mpatsy\u001b[0m\u001b[1;33m.\u001b[0m\u001b[0meval\u001b[0m \u001b[1;32mimport\u001b[0m \u001b[0mEvalEnvironment\u001b[0m\u001b[1;33m\u001b[0m\u001b[1;33m\u001b[0m\u001b[0m\n\u001b[0;32m     10\u001b[0m \u001b[1;33m\u001b[0m\u001b[0m\n\u001b[1;32m---> 11\u001b[1;33m \u001b[1;32mfrom\u001b[0m \u001b[1;33m.\u001b[0m \u001b[1;32mimport\u001b[0m \u001b[0mutils\u001b[0m\u001b[1;33m\u001b[0m\u001b[1;33m\u001b[0m\u001b[0m\n\u001b[0m\u001b[0;32m     12\u001b[0m \u001b[1;33m\u001b[0m\u001b[0m\n\u001b[0;32m     13\u001b[0m \u001b[1;32mimport\u001b[0m \u001b[0mnumpy\u001b[0m \u001b[1;32mas\u001b[0m \u001b[0mnp\u001b[0m\u001b[1;33m\u001b[0m\u001b[1;33m\u001b[0m\u001b[0m\n",
      "\u001b[1;32mc:\\users\\murphy\\appdata\\local\\programs\\python\\python38\\lib\\site-packages\\ggplot\\utils.py\u001b[0m in \u001b[0;36m<module>\u001b[1;34m\u001b[0m\n\u001b[0;32m     79\u001b[0m \u001b[1;33m\u001b[0m\u001b[0m\n\u001b[0;32m     80\u001b[0m date_types = (\n\u001b[1;32m---> 81\u001b[1;33m     \u001b[0mpd\u001b[0m\u001b[1;33m.\u001b[0m\u001b[0mtslib\u001b[0m\u001b[1;33m.\u001b[0m\u001b[0mTimestamp\u001b[0m\u001b[1;33m,\u001b[0m\u001b[1;33m\u001b[0m\u001b[1;33m\u001b[0m\u001b[0m\n\u001b[0m\u001b[0;32m     82\u001b[0m     \u001b[0mpd\u001b[0m\u001b[1;33m.\u001b[0m\u001b[0mDatetimeIndex\u001b[0m\u001b[1;33m,\u001b[0m\u001b[1;33m\u001b[0m\u001b[1;33m\u001b[0m\u001b[0m\n\u001b[0;32m     83\u001b[0m     \u001b[0mpd\u001b[0m\u001b[1;33m.\u001b[0m\u001b[0mPeriod\u001b[0m\u001b[1;33m,\u001b[0m\u001b[1;33m\u001b[0m\u001b[1;33m\u001b[0m\u001b[0m\n",
      "\u001b[1;32mc:\\users\\murphy\\appdata\\local\\programs\\python\\python38\\lib\\site-packages\\pandas\\__init__.py\u001b[0m in \u001b[0;36m__getattr__\u001b[1;34m(name)\u001b[0m\n\u001b[0;32m    261\u001b[0m             \u001b[1;32mreturn\u001b[0m \u001b[0m_SparseArray\u001b[0m\u001b[1;33m\u001b[0m\u001b[1;33m\u001b[0m\u001b[0m\n\u001b[0;32m    262\u001b[0m \u001b[1;33m\u001b[0m\u001b[0m\n\u001b[1;32m--> 263\u001b[1;33m         \u001b[1;32mraise\u001b[0m \u001b[0mAttributeError\u001b[0m\u001b[1;33m(\u001b[0m\u001b[1;34mf\"module 'pandas' has no attribute '{name}'\"\u001b[0m\u001b[1;33m)\u001b[0m\u001b[1;33m\u001b[0m\u001b[1;33m\u001b[0m\u001b[0m\n\u001b[0m\u001b[0;32m    264\u001b[0m \u001b[1;33m\u001b[0m\u001b[0m\n\u001b[0;32m    265\u001b[0m \u001b[1;33m\u001b[0m\u001b[0m\n",
      "\u001b[1;31mAttributeError\u001b[0m: module 'pandas' has no attribute 'tslib'"
     ]
    }
   ],
   "source": [
    "from ggplot import *\n",
    "ggplot(aes(x=\"age\", y=\"weight\"), data=pets) + geom_point() +labs(tilte=\"pets\")"
   ]
  },
  {
   "cell_type": "code",
   "execution_count": 65,
   "metadata": {},
   "outputs": [
    {
     "data": {
      "text/html": [
       "<div>\n",
       "<style scoped>\n",
       "    .dataframe tbody tr th:only-of-type {\n",
       "        vertical-align: middle;\n",
       "    }\n",
       "\n",
       "    .dataframe tbody tr th {\n",
       "        vertical-align: top;\n",
       "    }\n",
       "\n",
       "    .dataframe thead th {\n",
       "        text-align: right;\n",
       "    }\n",
       "</style>\n",
       "<table border=\"1\" class=\"dataframe\">\n",
       "  <thead>\n",
       "    <tr style=\"text-align: right;\">\n",
       "      <th></th>\n",
       "      <th>Ix</th>\n",
       "      <th>Dynasty</th>\n",
       "      <th>Name</th>\n",
       "      <th>Birth</th>\n",
       "      <th>Death</th>\n",
       "      <th>Coronation 1</th>\n",
       "      <th>Coronation 2</th>\n",
       "      <th>Ceased to be Emperor</th>\n",
       "    </tr>\n",
       "  </thead>\n",
       "  <tbody>\n",
       "    <tr>\n",
       "      <th>0</th>\n",
       "      <td>NaN</td>\n",
       "      <td>Carolingian</td>\n",
       "      <td>Charles I</td>\n",
       "      <td>2 April 742</td>\n",
       "      <td>28 January 814</td>\n",
       "      <td>25 December 800</td>\n",
       "      <td>NaN</td>\n",
       "      <td>28 January 814</td>\n",
       "    </tr>\n",
       "    <tr>\n",
       "      <th>1</th>\n",
       "      <td>NaN</td>\n",
       "      <td>Carolingian</td>\n",
       "      <td>Louis I</td>\n",
       "      <td>778</td>\n",
       "      <td>20 June 840</td>\n",
       "      <td>11 September 813</td>\n",
       "      <td>5 October 816</td>\n",
       "      <td>20 June 840</td>\n",
       "    </tr>\n",
       "    <tr>\n",
       "      <th>2</th>\n",
       "      <td>NaN</td>\n",
       "      <td>Carolingian</td>\n",
       "      <td>Lothair I</td>\n",
       "      <td>795</td>\n",
       "      <td>29 September 855</td>\n",
       "      <td>5 April 823</td>\n",
       "      <td>NaN</td>\n",
       "      <td>29 September 855</td>\n",
       "    </tr>\n",
       "    <tr>\n",
       "      <th>3</th>\n",
       "      <td>NaN</td>\n",
       "      <td>Carolingian</td>\n",
       "      <td>Louis II</td>\n",
       "      <td>825</td>\n",
       "      <td>12 August 875</td>\n",
       "      <td>15 June 844</td>\n",
       "      <td>18 May 872</td>\n",
       "      <td>12 August 875</td>\n",
       "    </tr>\n",
       "    <tr>\n",
       "      <th>4</th>\n",
       "      <td>NaN</td>\n",
       "      <td>Carolingian</td>\n",
       "      <td>Charles II</td>\n",
       "      <td>13 June 823</td>\n",
       "      <td>6 October 877</td>\n",
       "      <td>29 December 875</td>\n",
       "      <td>NaN</td>\n",
       "      <td>6 October 877</td>\n",
       "    </tr>\n",
       "  </tbody>\n",
       "</table>\n",
       "</div>"
      ],
      "text/plain": [
       "   Ix      Dynasty        Name        Birth             Death  \\\n",
       "0 NaN  Carolingian   Charles I  2 April 742    28 January 814   \n",
       "1 NaN  Carolingian     Louis I          778       20 June 840   \n",
       "2 NaN  Carolingian   Lothair I          795  29 September 855   \n",
       "3 NaN  Carolingian    Louis II          825     12 August 875   \n",
       "4 NaN  Carolingian  Charles II  13 June 823     6 October 877   \n",
       "\n",
       "       Coronation 1   Coronation 2 Ceased to be Emperor  \n",
       "0   25 December 800            NaN       28 January 814  \n",
       "1  11 September 813  5 October 816          20 June 840  \n",
       "2       5 April 823            NaN     29 September 855  \n",
       "3       15 June 844     18 May 872        12 August 875  \n",
       "4   29 December 875            NaN        6 October 877  "
      ]
     },
     "execution_count": 65,
     "metadata": {},
     "output_type": "execute_result"
    }
   ],
   "source": [
    "url = \"https://raw.githubusercontent.com/adambard/learnxinyminutes-docs/master/hre.csv\"\n",
    "r = requests.get(url)\n",
    "r.status_code\n",
    "fp = \"hre.csv\"\n",
    "with open(fp, \"wb\") as f:\n",
    "    f.write(r.text.encode(\"UTF-8\"))\n",
    "\n",
    "hre = pd.read_csv(fp)\n",
    "hre.head()"
   ]
  },
  {
   "cell_type": "code",
   "execution_count": 66,
   "metadata": {},
   "outputs": [],
   "source": [
    "import re #reqular expressions\n",
    "rx = re.compile(r'\\d+$') # match trailing digits"
   ]
  },
  {
   "cell_type": "code",
   "execution_count": 71,
   "metadata": {},
   "outputs": [
    {
     "data": {
      "text/plain": [
       "0     72\n",
       "1     62\n",
       "2     60\n",
       "3     50\n",
       "4     54\n",
       "5     49\n",
       "6     59\n",
       "7     18\n",
       "8     49\n",
       "9     48\n",
       "10    79\n",
       "11    61\n",
       "12    28\n",
       "13    22\n",
       "14    51\n",
       "15    49\n",
       "16    39\n",
       "17    56\n",
       "18    39\n",
       "19    62\n",
       "20    68\n",
       "21    32\n",
       "22    43\n",
       "23    56\n",
       "24    38\n",
       "25    65\n",
       "26    62\n",
       "27    69\n",
       "28    78\n",
       "29    60\n",
       "30    58\n",
       "31    61\n",
       "32    49\n",
       "33    60\n",
       "34    62\n",
       "35    59\n",
       "36    49\n",
       "37    65\n",
       "38    33\n",
       "39    55\n",
       "40    48\n",
       "41    57\n",
       "42    49\n",
       "43    45\n",
       "44    67\n",
       "Name: EstAge, dtype: int32"
      ]
     },
     "execution_count": 71,
     "metadata": {},
     "output_type": "execute_result"
    }
   ],
   "source": [
    "from functools import reduce\n",
    "\n",
    "def extractYear(v):\n",
    "    return(pd.Series(reduce(lambda x, y: x+y, map(rx.findall,v), [])).astype(int))\n",
    "\n",
    "hre[\"BirthY\"] = extractYear(hre.Birth)\n",
    "hre[\"DeathY\"] = extractYear(hre.Death)\n",
    "hre[\"EstAge\"] = hre.DeathY - hre.BirthY\n",
    "hre.BirthY\n",
    "hre.DeathY\n",
    "hre.EstAge"
   ]
  },
  {
   "cell_type": "code",
   "execution_count": 81,
   "metadata": {},
   "outputs": [
    {
     "data": {
      "text/plain": [
       "<seaborn.axisgrid.FacetGrid at 0x2397adb9d90>"
      ]
     },
     "execution_count": 81,
     "metadata": {},
     "output_type": "execute_result"
    },
    {
     "data": {
      "image/png": "[encoded data removed]",
      "text/plain": [
       "<Figure size 360x360 with 1 Axes>"
      ]
     },
     "metadata": {
      "needs_background": "light"
     },
     "output_type": "display_data"
    }
   ],
   "source": [
    "sns.lmplot(\"BirthY\", \"EstAge\", data=hre, hue=None, fit_reg=False)"
   ]
  },
  {
   "cell_type": "code",
   "execution_count": 78,
   "metadata": {},
   "outputs": [
    {
     "data": {
      "text/plain": [
       "0.49032107445388495"
      ]
     },
     "execution_count": 78,
     "metadata": {},
     "output_type": "execute_result"
    }
   ],
   "source": [
    "from scipy import stats\n",
    "(slope, intercept, r, pval, stderr) = stats.linregress(hre.BirthY, hre.EstAge)\n"
   ]
  },
  {
   "cell_type": "code",
   "execution_count": 79,
   "metadata": {},
   "outputs": [
    {
     "data": {
      "text/plain": [
       "<seaborn.axisgrid.FacetGrid at 0x2397ad01670>"
      ]
     },
     "execution_count": 79,
     "metadata": {},
     "output_type": "execute_result"
    },
    {
     "data": {
      "image/png": "[encoded data removed]",
      "text/plain": [
       "<Figure size 360x360 with 1 Axes>"
      ]
     },
     "metadata": {
      "needs_background": "light"
     },
     "output_type": "display_data"
    }
   ],
   "source": [
    "sns.lmplot(\"BirthY\", \"EstAge\", data=hre)"
   ]
  },
  {
   "cell_type": "code",
   "execution_count": null,
   "metadata": {},
   "outputs": [],
   "source": []
  }
 ],
 "metadata": {
  "kernelspec": {
   "display_name": "Python 3",
   "language": "python",
   "name": "python3"
  },
  "language_info": {
   "codemirror_mode": {
    "name": "ipython",
    "version": 3
   },
   "file_extension": ".py",
   "mimetype": "text/x-python",
   "name": "python",
   "nbconvert_exporter": "python",
   "pygments_lexer": "ipython3",
   "version": "3.8.1"
  }
 },
 "nbformat": 4,
 "nbformat_minor": 4
}
