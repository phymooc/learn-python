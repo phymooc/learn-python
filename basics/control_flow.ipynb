{
 "cells": [
  {
   "cell_type": "code",
   "execution_count": null,
   "metadata": {},
   "outputs": [],
   "source": [
    "# Example of control flow using if-else statement\n",
    "number = 10\n",
    "\n",
    "if number > 0:\n",
    "    print(\"The number is positive.\")\n",
    "elif number == 0:\n",
    "    print(\"The number is zero.\")\n",
    "else:\n",
    "    print(\"The number is negative.\")"
   ]
  },
  {
   "cell_type": "code",
   "execution_count": null,
   "metadata": {},
   "outputs": [],
   "source": [
    "# short hand if-else statement\n",
    "print(\"The number is positive.\") if number > 0 else print(\"The number is negative.\")"
   ]
  },
  {
   "cell_type": "code",
   "execution_count": null,
   "metadata": {},
   "outputs": [],
   "source": [
    "# and / or / not / in / not in\n",
    "if number > 0 and number < 100:\n",
    "    print(\"The number is positive and less than 100.\")\n",
    "\n",
    "if number > 0 or number < 100:\n",
    "    print(\"The number is either positive or less than 100.\")\n",
    "\n",
    "if not number < 0:\n",
    "    print(\"The number is not negative.\")\n",
    "\n",
    "if number in [1, 2, 3, 4, 5]:\n",
    "    print(\"The number is in the list.\")\n",
    "\n",
    "if number not in [1, 2, 3, 4, 5]:\n",
    "    print(\"The number is not in the list.\")\n",
    "\n",
    "# pass statement: used when a statement is required syntactically but you do not want any command or code to execute\n",
    "if number > 0:\n",
    "    pass"
   ]
  },
  {
   "cell_type": "code",
   "execution_count": null,
   "metadata": {},
   "outputs": [],
   "source": [
    "# loop\n",
    "# while loop\n",
    "i = 0\n",
    "while i < 5:\n",
    "    print(i)\n",
    "    i += 1\n",
    "\n",
    "# for loop\n",
    "for i in range(5):\n",
    "    print(i)\n",
    "\n",
    "# break statement\n",
    "for i in range(5):\n",
    "    if i == 3:\n",
    "        break\n",
    "    print(i)\n",
    "\n",
    "# continue statement"
   ]
  }
 ],
 "metadata": {
  "kernelspec": {
   "display_name": "Python 3",
   "language": "python",
   "name": "python3"
  },
  "language_info": {
   "codemirror_mode": {
    "name": "ipython",
    "version": 3
   },
   "file_extension": ".py",
   "mimetype": "text/x-python",
   "name": "python",
   "nbconvert_exporter": "python",
   "pygments_lexer": "ipython3",
   "version": "3.10.12"
  }
 },
 "nbformat": 4,
 "nbformat_minor": 2
}
