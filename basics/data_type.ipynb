{
 "cells": [
  {
   "cell_type": "code",
   "execution_count": null,
   "metadata": {},
   "outputs": [],
   "source": []
  },
  {
   "cell_type": "code",
   "execution_count": 3,
   "metadata": {},
   "outputs": [
    {
     "name": "stdout",
     "output_type": "stream",
     "text": [
      "Integer: 10\n",
      "Float: 10.5\n",
      "String: Hello, World!\n",
      "Boolean: True\n",
      "List: [1, 2, 3, 4, 5]\n",
      "Tuple: (1, 2, 3, 4, 5)\n",
      "Dictionary: {'name': 'Alice', 'age': 25}\n",
      "Set: {1, 2, 3, 4, 5}\n",
      "NoneType: None\n"
     ]
    }
   ],
   "source": [
    "# data_types_examples.py\n",
    "\n",
    "# Integer\n",
    "my_int = 10\n",
    "print(\"Integer:\", my_int)\n",
    "\n",
    "# Float\n",
    "my_float = 10.5\n",
    "print(\"Float:\", my_float)\n",
    "\n",
    "# String\n",
    "my_string = \"Hello, World!\"\n",
    "print(\"String:\", my_string)\n",
    "\n",
    "# Boolean\n",
    "my_bool = True\n",
    "print(\"Boolean:\", my_bool)\n",
    "\n",
    "# List: ordered, mutable, allows duplicate elements\n",
    "my_list = [1, 2, 3, 4, 5]\n",
    "print(\"List:\", my_list)\n",
    "\n",
    "# Tuple: ordered, immutable, allows duplicate elements\n",
    "my_tuple = (1, 2, 3, 4, 5)\n",
    "print(\"Tuple:\", my_tuple)\n",
    "\n",
    "# Dictionary: unordered, mutable, indexed, no duplicate elements\n",
    "my_dict = {\"name\": \"Alice\", \"age\": 25}\n",
    "print(\"Dictionary:\", my_dict)\n",
    "\n",
    "# Set: unordered, mutable, no duplicate elements\n",
    "my_set = {1, 2, 3, 4, 5}\n",
    "print(\"Set:\", my_set)\n",
    "\n",
    "# NoneType\n",
    "my_none = None\n",
    "print(\"NoneType:\", my_none)"
   ]
  }
 ],
 "metadata": {
  "kernelspec": {
   "display_name": "Python 3",
   "language": "python",
   "name": "python3"
  },
  "language_info": {
   "codemirror_mode": {
    "name": "ipython",
    "version": 3
   },
   "file_extension": ".py",
   "mimetype": "text/x-python",
   "name": "python",
   "nbconvert_exporter": "python",
   "pygments_lexer": "ipython3",
   "version": "3.10.12"
  }
 },
 "nbformat": 4,
 "nbformat_minor": 2
}
